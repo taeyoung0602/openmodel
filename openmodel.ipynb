{
 "cells": [
  {
   "cell_type": "code",
   "execution_count": null,
   "id": "344c85fe",
   "metadata": {},
   "outputs": [],
   "source": [
    "from sentence_transformers import sentence_transformers"
   ]
  },
  {
   "cell_type": "code",
   "execution_count": null,
   "id": "9306f434",
   "metadata": {},
   "outputs": [],
   "source": [
    "model = SentenceTransformer('setence-transformers/naver-hyperclovax/HyperCLOVAX-SEED-Vision-Instruct-3B')\n",
    "model.save('./hyperclovax')"
   ]
  },
  {
   "cell_type": "code",
   "execution_count": null,
   "id": "b4f479d6",
   "metadata": {},
   "outputs": [],
   "source": []
  }
 ],
 "metadata": {
  "kernelspec": {
   "display_name": "Python 3",
   "language": "python",
   "name": "python3"
  },
  "language_info": {
   "name": "python",
   "version": "3.12.3"
  }
 },
 "nbformat": 4,
 "nbformat_minor": 5
}
